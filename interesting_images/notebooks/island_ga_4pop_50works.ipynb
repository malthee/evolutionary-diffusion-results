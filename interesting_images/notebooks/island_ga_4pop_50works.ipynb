{
 "cells": [
  {
   "cell_type": "markdown",
   "id": "8c0bdb332e586951",
   "metadata": {
    "collapsed": false
   },
   "source": [
    "# Template Notebook for testing an Island Model GA with artists on an island\n",
    "Notebook Version: 0.2 (01/03/2024)"
   ]
  },
  {
   "cell_type": "code",
   "execution_count": 12,
   "id": "72e216fd5c2b33c9",
   "metadata": {
    "ExecuteTime": {
     "end_time": "2024-03-04T20:23:59.784317Z",
     "start_time": "2024-03-04T20:23:59.781178Z"
    },
    "collapsed": false
   },
   "outputs": [],
   "source": [
    "from evolutionary.plotting import plot_fitness_statistics\n",
    "from diffusers.utils import logging\n",
    "from evolutionary_imaging.processing import create_animation_from_generations, create_generation_image_grid, save_images_from_generation\n",
    "from datetime import datetime\n",
    "import torch\n",
    "import os"
   ]
  },
  {
   "cell_type": "code",
   "execution_count": 13,
   "id": "2f2adb778c9e1c0f",
   "metadata": {
    "ExecuteTime": {
     "end_time": "2024-03-04T20:24:00.008089Z",
     "start_time": "2024-03-04T20:23:59.993539Z"
    },
    "collapsed": false
   },
   "outputs": [
    {
     "name": "stdout",
     "output_type": "stream",
     "text": [
      "tensor([226,  70,  39,  ...,   0,   0,   0], dtype=torch.uint8)\n"
     ]
    }
   ],
   "source": [
    "logging.disable_progress_bar() # Or else your output will be full of progress bars\n",
    "logging.set_verbosity_error() # Enable again if you are having problems\n",
    "os.environ[\"TOKENIZERS_PARALLELISM\"] = \"false\" # To remove warning of libraries using tokenizers\n",
    "\n",
    "def save_images_post_evaluation(g, a):\n",
    "    now = datetime.now()\n",
    "    time_str = now.strftime(\"%H%M%S\") # append a timestring to avoid overlapping of different GAs when saving images\n",
    "    save_images_from_generation(a.population, g, time_str)\n",
    "    \n",
    "# Check torch random state, used across all libraries. Caution setting fixed seeds as it affects not only generation but also variation.\n",
    "print(torch.random.get_rng_state())"
   ]
  },
  {
   "cell_type": "code",
   "execution_count": 14,
   "id": "initial_id",
   "metadata": {
    "ExecuteTime": {
     "end_time": "2024-03-04T20:24:22.319671Z",
     "start_time": "2024-03-04T20:24:00.737683Z"
    },
    "collapsed": true
   },
   "outputs": [
    {
     "name": "stdout",
     "output_type": "stream",
     "text": [
      "Loaded StableDiffusionXLPipeline {\n",
      "  \"_class_name\": \"StableDiffusionXLPipeline\",\n",
      "  \"_diffusers_version\": \"0.25.0\",\n",
      "  \"_name_or_path\": \"stabilityai/sdxl-turbo\",\n",
      "  \"feature_extractor\": [\n",
      "    null,\n",
      "    null\n",
      "  ],\n",
      "  \"force_zeros_for_empty_prompt\": true,\n",
      "  \"image_encoder\": [\n",
      "    null,\n",
      "    null\n",
      "  ],\n",
      "  \"scheduler\": [\n",
      "    \"diffusers\",\n",
      "    \"EulerAncestralDiscreteScheduler\"\n",
      "  ],\n",
      "  \"text_encoder\": [\n",
      "    \"transformers\",\n",
      "    \"CLIPTextModel\"\n",
      "  ],\n",
      "  \"text_encoder_2\": [\n",
      "    \"transformers\",\n",
      "    \"CLIPTextModelWithProjection\"\n",
      "  ],\n",
      "  \"tokenizer\": [\n",
      "    \"transformers\",\n",
      "    \"CLIPTokenizer\"\n",
      "  ],\n",
      "  \"tokenizer_2\": [\n",
      "    \"transformers\",\n",
      "    \"CLIPTokenizer\"\n",
      "  ],\n",
      "  \"unet\": [\n",
      "    \"diffusers\",\n",
      "    \"UNet2DConditionModel\"\n",
      "  ],\n",
      "  \"vae\": [\n",
      "    \"diffusers\",\n",
      "    \"AutoencoderKL\"\n",
      "  ]\n",
      "}\n"
     ]
    }
   ],
   "source": [
    "from evolutionary_prompt_embedding.argument_types import PooledPromptEmbedData\n",
    "from evolutionary_prompt_embedding.image_creation import SDXLPromptEmbeddingImageCreator\n",
    "from evolutionary_prompt_embedding.variation import \\\n",
    "    UniformGaussianMutatorArguments, PooledUniformGaussianMutator, PooledArithmeticCrossover, PooledUniformCrossover\n",
    "from evolutionary_prompt_embedding.value_ranges import SDXLTurboEmbeddingRange, SDXLTurboPooledEmbeddingRange\n",
    "from evolutionary.selectors import TournamentSelector, RouletteWheelSelector, RankSelector\n",
    "from evolutionary.algorithms.island_model import IslandModel\n",
    "from evolutionary.algorithms.ga import GeneticAlgorithm\n",
    "from evolutionary_imaging.evaluators import AestheticsImageEvaluator\n",
    "\n",
    "population_size = 4\n",
    "num_generations = 100\n",
    "batch_size = 1\n",
    "elitism = None\n",
    "inference_steps = 3\n",
    "artworks_list = [\n",
    "    \"The Starry Night by Vincent van Gogh\",\n",
    "    \"The Last Supper by Leonardo da Vinci\",\n",
    "    \"Mona Lisa by Leonardo da Vinci\",\n",
    "    \"Sistine Chapel Ceiling by Michelangelo\",\n",
    "    \"The School of Athens by Raphael\",\n",
    "    \"The Night Watch by Rembrandt van Rijn\",\n",
    "    \"Girl with a Pearl Earring by Johannes Vermeer\",\n",
    "    \"The Swing by Jean-Honoré Fragonard\",\n",
    "    \"Liberty Leading the People by Eugène Delacroix\",\n",
    "    \"Impression, Sunrise by Claude Monet\",\n",
    "    \"A Sunday Afternoon on the Island of La Grande Jatte by Georges Seurat\",\n",
    "    \"The Scream by Edvard Munch\",\n",
    "    \"The Kiss by Gustav Klimt\",\n",
    "    \"Les Demoiselles d'Avignon by Pablo Picasso\",\n",
    "    \"Fountain by Marcel Duchamp\",\n",
    "    \"Jacob’s Ladder by Helen Frankenthaler\",\n",
    "    \"Untitled by Kazuo Shiraga\",\n",
    "    \"Masks Confronting Death by James Ensor\",\n",
    "    \"Wall Hanging by Anni Albers\",\n",
    "    \"Painting by Francis Bacon\",\n",
    "    \"Ladybug by Joan Mitchell\",\n",
    "    \"Equal by Richard Serra\",\n",
    "    \"Woman I by Willem de Kooning\",\n",
    "    \"Marilyn Diptych by Andy Warhol\",\n",
    "    \"Whaam! by Roy Lichtenstein\",\n",
    "    \"One And Three Chairs by Joseph Kosuth\",\n",
    "    \"Interior Scroll by Carolee Schneemann\",\n",
    "    \"Untitled Film Still #21 by Cindy Sherman\",\n",
    "    \"Gordon’s Makes Us Drunk by Gilbert & George\",\n",
    "    \"Do Women Have To Be Naked To Get Into The Met. Museum? by Guerilla Girls\",\n",
    "    \"The Physical Impossibility Of Death In The Mind Of Someone Living by Damien Hirst\",\n",
    "    \"Number 1, 1950 (Lavender Mist) by Jackson Pollock\",\n",
    "    \"Campbell’s Soup Cans by Andy Warhol\",\n",
    "    \"Sky Cathedral by Louise Nevelson\",\n",
    "    \"Elegy to the Spanish Republic No. 110 by Robert Motherwell\",\n",
    "    \"The Bay by Helen Frankenthaler\",\n",
    "    \"Vir Heroicus Sublimis by Barnett Newman\",\n",
    "    \"Woman III by Willem de Kooning\",\n",
    "    \"No. 5, 1948 by Jackson Pollock\",\n",
    "    \"Convergence by Jackson Pollock\",\n",
    "    \"The Marilyn Diptych by Andy Warhol\",\n",
    "    \"I and the Village by Marc Chagall\",\n",
    "    \"The Persistence of Memory by Salvador Dalí\",\n",
    "    \"Guernica by Pablo Picasso\",\n",
    "    \"Broadway Boogie Woogie by Piet Mondrian\",\n",
    "    \"Nighthawks by Edward Hopper\",\n",
    "    \"American Gothic by Grant Wood\",\n",
    "    \"Christina’s World by Andrew Wyeth\",\n",
    "    \"The Two Fridas by Frida Kahlo\",\n",
    "    \"The Great Wave off Kanagawa by Katsushika Hokusai\"\n",
    "]\n",
    "\n",
    "# Initialize GA instances\n",
    "embedding_range = SDXLTurboEmbeddingRange()\n",
    "pooled_embedding_range = SDXLTurboPooledEmbeddingRange()\n",
    "# Create the necessary components for the genetic algorithm\n",
    "creator = SDXLPromptEmbeddingImageCreator(batch_size=batch_size, inference_steps=inference_steps)\n",
    "evaluator = AestheticsImageEvaluator() \n",
    "crossover = PooledArithmeticCrossover(crossover_rate=0.6, crossover_rate_pooled=0.6)\n",
    "mutation_arguments = UniformGaussianMutatorArguments(mutation_rate=0.05, mutation_strength=1.5, \n",
    "                                                     clamp_range=(embedding_range.minimum, embedding_range.maximum)) \n",
    "mutation_arguments_pooled = UniformGaussianMutatorArguments(mutation_rate=0.05, mutation_strength=0.2, \n",
    "                                                            clamp_range=(pooled_embedding_range.minimum, pooled_embedding_range.maximum))\n",
    "mutator = PooledUniformGaussianMutator(mutation_arguments, mutation_arguments_pooled)\n",
    "selector = RankSelector()\n",
    "\n",
    "ga_instances = []\n",
    "\n",
    "init_crossover = PooledArithmeticCrossover(crossover_rate=0.8, crossover_rate_pooled=0.8)\n",
    "for work in artworks_list:\n",
    "    artist_arg = creator.arguments_from_prompt(work) \n",
    "\n",
    "    init_args = [init_crossover.crossover(artist_arg,  # Combine the work with a random image, weighted towards the work\n",
    "                                          PooledPromptEmbedData(embedding_range.random_tensor_in_range(), pooled_embedding_range.random_tensor_in_range())) \n",
    "                 for _ in range(population_size)]\n",
    "    \n",
    "    # Create and run the genetic algorithm\n",
    "    ga_instances.append(GeneticAlgorithm(\n",
    "        population_size=population_size,\n",
    "        num_generations=num_generations,\n",
    "        solution_creator=creator,\n",
    "        evaluator=evaluator,\n",
    "        mutator=mutator,\n",
    "        crossover=crossover,\n",
    "        selector=selector,\n",
    "        initial_arguments=init_args,\n",
    "        elitism_count=elitism,\n",
    "        post_evaluation_callback=save_images_post_evaluation,\n",
    "    ))"
   ]
  },
  {
   "cell_type": "code",
   "execution_count": 15,
   "id": "1e2256a4cf30a88a",
   "metadata": {
    "ExecuteTime": {
     "end_time": "2024-03-04T20:24:22.404137Z",
     "start_time": "2024-03-04T20:24:22.319941Z"
    },
    "collapsed": false
   },
   "outputs": [],
   "source": [
    "island_model = IslandModel(\n",
    "    ga_instances,\n",
    "    migration_size=4,\n",
    "    migration_interval=2,\n",
    ")"
   ]
  },
  {
   "cell_type": "code",
   "execution_count": 16,
   "id": "935da12fdef0f9e6",
   "metadata": {
    "ExecuteTime": {
     "end_time": "2024-03-05T04:05:21.918056Z",
     "start_time": "2024-03-04T20:24:22.404307Z"
    },
    "collapsed": false
   },
   "outputs": [
    {
     "name": "stderr",
     "output_type": "stream",
     "text": [
      "100%|██████████| 100/100 [7:36:34<00:00, 273.94s/generation] \n"
     ]
    }
   ],
   "source": [
    "best_solutions = island_model.run()"
   ]
  },
  {
   "cell_type": "code",
   "execution_count": null,
   "id": "138e75cca37887ee",
   "metadata": {
    "ExecuteTime": {
     "end_time": "2024-03-05T07:28:27.217710Z",
     "start_time": "2024-03-05T07:28:25.584457Z"
    },
    "collapsed": false
   },
   "outputs": [],
   "source": [
    "from diffusers.utils import make_image_grid\n",
    "\n",
    "# Show best solution\n",
    "for i, best_solution in enumerate(best_solutions):\n",
    "    print(f\"Best solution for artwork {artworks_list[i]}: {best_solution.fitness}\")\n",
    "\n",
    "make_image_grid([image for solution in best_solutions for image in solution.result.images], 10, batch_size * len(best_solutions) // 10)"
   ]
  },
  {
   "cell_type": "markdown",
   "id": "24ec401b70d26330",
   "metadata": {
    "collapsed": false
   },
   "source": [
    "## Visualize the evolution"
   ]
  },
  {
   "cell_type": "code",
   "execution_count": 18,
   "id": "654d29c0a9adc5ea",
   "metadata": {
    "ExecuteTime": {
     "end_time": "2024-03-05T07:30:12.120455Z",
     "start_time": "2024-03-05T07:28:47.317060Z"
    },
    "collapsed": false
   },
   "outputs": [],
   "source": [
    "for gen in range(num_generations):\n",
    "    create_generation_image_grid(gen, max_images=10)"
   ]
  },
  {
   "cell_type": "markdown",
   "id": "e7710ea6363c8fc2",
   "metadata": {
    "collapsed": false
   },
   "source": [
    "## Plot fitness statistics"
   ]
  },
  {
   "cell_type": "code",
   "execution_count": 20,
   "id": "28353cd43d9b4f6b",
   "metadata": {
    "ExecuteTime": {
     "end_time": "2024-03-05T07:30:19.746128Z",
     "start_time": "2024-03-05T07:30:19.527251Z"
    },
    "collapsed": false
   },
   "outputs": [
    {
     "data": {
      "image/png": "[encoded data removed]",
      "text/plain": [
       "<Figure size 640x480 with 1 Axes>"
      ]
     },
     "metadata": {},
     "output_type": "display_data"
    }
   ],
   "source": [
    "plot_fitness_statistics(num_generations, island_model.best_fitness, island_model.worst_fitness, island_model.avg_fitness)"
   ]
  },
  {
   "cell_type": "code",
   "execution_count": null,
   "id": "cb6427ad0fe12f61",
   "metadata": {
    "collapsed": false
   },
   "outputs": [],
   "source": [
    "!jupyter nbconvert --to html ga_notebook.ipynb"
   ]
  },
  {
   "cell_type": "markdown",
   "id": "1a0f4fb91ee79569",
   "metadata": {
    "collapsed": false
   },
   "source": [
    "### Save the run to disk"
   ]
  },
  {
   "cell_type": "code",
   "execution_count": 21,
   "id": "c3e2e39f5fca76da",
   "metadata": {
    "ExecuteTime": {
     "end_time": "2024-03-05T07:30:23.295842Z",
     "start_time": "2024-03-05T07:30:19.646520Z"
    },
    "collapsed": false
   },
   "outputs": [],
   "source": [
    "import pickle\n",
    "import os\n",
    "from datetime import datetime\n",
    "\n",
    "os.makedirs(\"saved_runs\", exist_ok=True)\n",
    "with open(os.path.join(\"saved_runs\", f\"island_model_aesthetics_works{datetime.now().strftime('%Y-%m-%d_%H-%M-%S')}.pkl\"), \"wb\") as f:\n",
    "    pickle.dump(island_model, f) "
   ]
  },
  {
   "cell_type": "markdown",
   "id": "90e1117acb713a12",
   "metadata": {
    "collapsed": false
   },
   "source": [
    "### Load the run from disk \n",
    "Notebook and library versions should match with the saved run"
   ]
  },
  {
   "cell_type": "code",
   "execution_count": null,
   "id": "d5fd533c22309504",
   "metadata": {
    "collapsed": false
   },
   "outputs": [],
   "source": [
    "import pickle\n",
    "import os\n",
    "\n",
    "with open(os.path.join(\"saved_runs\", \"insert_filename\"), \"rb\") as f:\n",
    "    island_model = pickle.load(f)"
   ]
  },
  {
   "cell_type": "markdown",
   "id": "4550d830b1b47e1a",
   "metadata": {
    "collapsed": false
   },
   "source": [
    "## Fallback functions for when something went wrong"
   ]
  },
  {
   "cell_type": "markdown",
   "id": "6a9063073a48997c",
   "metadata": {
    "collapsed": false
   },
   "source": [
    "### Access Best Solution from Disk"
   ]
  },
  {
   "cell_type": "code",
   "execution_count": null,
   "id": "5f775720f03f3e5a",
   "metadata": {
    "collapsed": false
   },
   "outputs": [],
   "source": [
    "import os\n",
    "import glob\n",
    "import evolutionary_imaging.processing as ip\n",
    "from PIL import Image\n",
    "\n",
    "num_generations = 22  # Set this to the number of generations you ran (if you didn't finish)\n",
    "generation_dir = os.path.join(ip.RESULTS_FOLDER, f\"{num_generations}\")\n",
    "image_files = glob.glob(os.path.join(generation_dir, \"*.png\"))\n",
    "image_files.sort(key=ip.fitness_filename_sorting_key, reverse=True)\n",
    "print(image_files[0])\n",
    "Image.open(image_files[0])"
   ]
  },
  {
   "cell_type": "markdown",
   "id": "2b003d9c4275cfca",
   "metadata": {
    "collapsed": false
   },
   "source": [
    "### ffmpeg is not installed, create GIF instead"
   ]
  },
  {
   "cell_type": "code",
   "execution_count": null,
   "id": "63df46f328facfc9",
   "metadata": {
    "collapsed": false
   },
   "outputs": [],
   "source": [
    "from evolutionary_imaging.processing import create_animation_from_generations_pil\n",
    "video_loc = create_animation_from_generations_pil(num_generations)\n",
    "print(video_loc)\n",
    "from IPython.display import Video\n",
    "Video(filename=video_loc) "
   ]
  }
 ],
 "metadata": {
  "kernelspec": {
   "display_name": "Python 3",
   "language": "python",
   "name": "python3"
  },
  "language_info": {
   "codemirror_mode": {
    "name": "ipython",
    "version": 2
   },
   "file_extension": ".py",
   "mimetype": "text/x-python",
   "name": "python",
   "nbconvert_exporter": "python",
   "pygments_lexer": "ipython2",
   "version": "2.7.6"
  }
 },
 "nbformat": 4,
 "nbformat_minor": 5
}
